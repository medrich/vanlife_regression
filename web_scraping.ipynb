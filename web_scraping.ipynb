{
 "cells": [
  {
   "cell_type": "code",
   "execution_count": 1,
   "id": "82dcc9d6-2701-45b4-83d3-783ae418aea5",
   "metadata": {},
   "outputs": [
    {
     "name": "stderr",
     "output_type": "stream",
     "text": [
      "/tmp/ipykernel_241748/2628382612.py:13: DeprecationWarning: executable_path has been deprecated, please pass in a Service object\n",
      "  driver = webdriver.Chrome(chromedriver)\n",
      "/tmp/ipykernel_241748/2628382612.py:14: DeprecationWarning: executable_path has been deprecated, please pass in a Service object\n",
      "  driver2 = webdriver.Chrome(chromedriver)\n"
     ]
    }
   ],
   "source": [
    "import os\n",
    "from selenium import webdriver\n",
    "from selenium.common.exceptions import NoSuchElementException, WebDriverException\n",
    "from bs4 import BeautifulSoup as bs\n",
    "import re\n",
    "import requests\n",
    "import time, random\n",
    "import pandas as pd\n",
    "\n",
    "chromedriver = '/usr/bin/chromedriver'\n",
    "os.environ[\"webdriver.chrome.driver\"] = \\\n",
    "    chromedriver\n",
    "driver = webdriver.Chrome(chromedriver)\n",
    "driver2 = webdriver.Chrome(chromedriver)"
   ]
  },
  {
   "cell_type": "code",
   "execution_count": 2,
   "id": "9825514d-6608-497b-a636-8222c4299991",
   "metadata": {},
   "outputs": [],
   "source": [
    "# scraping a single post from vanlifetrader\n",
    "\n",
    "#driver.get('https://vanlifetrader.com/listing/outside-van-family-camper/')"
   ]
  },
  {
   "cell_type": "code",
   "execution_count": 3,
   "id": "afb8e54c-29c9-44cd-a950-4743d6d289d8",
   "metadata": {},
   "outputs": [],
   "source": [
    "#print(driver.page_source[:1000])"
   ]
  },
  {
   "cell_type": "code",
   "execution_count": 4,
   "id": "9655ab1f-66ef-4713-8341-b723bea35bc3",
   "metadata": {},
   "outputs": [],
   "source": [
    "#soup = bs(driver.page_source)\n",
    "\n",
    "#basics_table = soup.find_all(class_='col-md-12 block-type-table')[0]\n",
    "#tech_table = soup.find_all(class_='col-md-12 block-type-table')[1]"
   ]
  },
  {
   "cell_type": "code",
   "execution_count": 5,
   "id": "18c77e17-299b-49b8-909d-11bfe02968be",
   "metadata": {},
   "outputs": [
    {
     "data": {
      "text/plain": [
       "' I want to scrape info from the first table on the page (vehicle, price, location), the technical specs table, and the features table.\\nTwo of these elements (top table, tech specs) are all referred to as <div class=\"col-md-12 block-type-table\" id=\\'block_#######\\'> \\nThe features table is referred to as <div class=\"col-md-12 block-type-table\" id=\\'block_#######\\'> \\nThe id \"#######\" for each is different for each element, but the syntax of \"block_\" is the same. Can I exploit this?'"
      ]
     },
     "execution_count": 5,
     "metadata": {},
     "output_type": "execute_result"
    }
   ],
   "source": [
    "''' I want to scrape info from the first table on the page (vehicle, price, location), the technical specs table, and the features table.\n",
    "Two of these elements (top table, tech specs) are all referred to as <div class=\"col-md-12 block-type-table\" id='block_#######'> \n",
    "The features table is referred to as <div class=\"col-md-12 block-type-table\" id='block_#######'> \n",
    "The id \"#######\" for each is different for each element, but the syntax of \"block_\" is the same. Can I exploit this?'''\n",
    "\n",
    "#basics = basics_table.find_all('li')\n",
    "#tech_specs = tech_table.find_all('li')\n",
    "#features = soup.find(class_='col-md-12 block-type-tags').find_all('span')"
   ]
  },
  {
   "cell_type": "code",
   "execution_count": 6,
   "id": "afaf4743-1f92-4d15-bcd7-87bbd92e32e3",
   "metadata": {},
   "outputs": [],
   "source": [
    "#basics"
   ]
  },
  {
   "cell_type": "code",
   "execution_count": 7,
   "id": "88542f4f-efea-455b-9e1e-1c5ef97a0beb",
   "metadata": {},
   "outputs": [
    {
     "data": {
      "text/plain": [
       "\"\\nbasics_dict = {}\\npost_dict = {}\\n\\nfor item in basics:\\n    post_dict[item.find(class_='item-attr').text] = item.find(class_='item-property').text\\n\\nfor k,v in post_dict.items():\\n    post_dict[k] = v.replace('\\n','')\\n\""
      ]
     },
     "execution_count": 7,
     "metadata": {},
     "output_type": "execute_result"
    }
   ],
   "source": [
    "'''\n",
    "basics_dict = {}\n",
    "post_dict = {}\n",
    "\n",
    "for item in basics:\n",
    "    post_dict[item.find(class_='item-attr').text] = item.find(class_='item-property').text\n",
    "\n",
    "for k,v in post_dict.items():\n",
    "    post_dict[k] = v.replace('\\n','')\n",
    "'''"
   ]
  },
  {
   "cell_type": "code",
   "execution_count": 8,
   "id": "da889740-c91e-4c3b-a729-129dcfaa7294",
   "metadata": {},
   "outputs": [],
   "source": [
    "#basics_dict"
   ]
  },
  {
   "cell_type": "markdown",
   "id": "6d03fec9-9fa4-418f-9737-610c02a0b202",
   "metadata": {},
   "source": [
    "basics_vehicle = basics[0].text\n",
    "asics_price = basics[1].text\n",
    "basics_loc = basics[2].text"
   ]
  },
  {
   "cell_type": "markdown",
   "id": "00075442-128e-461e-965d-6d1986408b7d",
   "metadata": {
    "tags": []
   },
   "source": [
    "basics_vehicle = basics_vehicle.split()"
   ]
  },
  {
   "cell_type": "markdown",
   "id": "14e0f9cf-8852-49f6-bf00-9b6dadbcf1e3",
   "metadata": {
    "tags": []
   },
   "source": [
    "basics_vehicle"
   ]
  },
  {
   "cell_type": "markdown",
   "id": "b02b1a5d-c90b-4f31-9fac-5773b8713bf1",
   "metadata": {
    "tags": []
   },
   "source": [
    "basics_v_dict = {basics_vehicle[0]:str(basics_vehicle[1]) + \" \" + str(basics_vehicle[2]) + \" \" + str(basics_vehicle[3]) + \" \" + str(basics_vehicle[4])}"
   ]
  },
  {
   "cell_type": "markdown",
   "id": "d7465d5b-f649-4afc-a6c1-ddc8ee090e17",
   "metadata": {},
   "source": [
    "basics_v_dict"
   ]
  },
  {
   "cell_type": "markdown",
   "id": "2a9c9da7-4e90-44d6-98bd-0ec3a4432ed1",
   "metadata": {
    "tags": []
   },
   "source": [
    "basics_price = basics_price.split()"
   ]
  },
  {
   "cell_type": "markdown",
   "id": "c3a8b07c-948e-425f-a726-537ddd00f4ee",
   "metadata": {},
   "source": [
    "basics_price"
   ]
  },
  {
   "cell_type": "markdown",
   "id": "0c65e466-bd08-4f59-91cd-76aee7b22f5f",
   "metadata": {},
   "source": [
    "basics_price[1] = basics_price[1].replace(\"$\",\"\").replace(\",\",\"\")"
   ]
  },
  {
   "cell_type": "markdown",
   "id": "dc3203e8-6c57-4b43-b666-3c537035061c",
   "metadata": {},
   "source": [
    "basics_p_dict = {basics_price[0]: int(basics_price[1])}"
   ]
  },
  {
   "cell_type": "markdown",
   "id": "b5b1d464-12d3-4335-9e22-2a29778cd719",
   "metadata": {},
   "source": [
    "basics_loc = basics_loc.split()"
   ]
  },
  {
   "cell_type": "markdown",
   "id": "b4d42597-b299-47b8-a2d4-19f52e1c2203",
   "metadata": {
    "tags": []
   },
   "source": [
    "basics_p_dict"
   ]
  },
  {
   "cell_type": "markdown",
   "id": "0a85b56d-e320-4eb3-97a7-37866205cf2b",
   "metadata": {},
   "source": [
    "basics_loc"
   ]
  },
  {
   "cell_type": "markdown",
   "id": "1c8056de-d472-4032-9492-7744196e7193",
   "metadata": {
    "tags": []
   },
   "source": [
    "basics_l_dict = {basics_loc[0]: str(basics_loc[1]) + \" \" + str(basics_loc[2]) + \" \" + str(basics_loc[3]) + \" \" + str(basics_loc[4])}"
   ]
  },
  {
   "cell_type": "markdown",
   "id": "f7b71478-b14c-425c-9192-0e57aa059191",
   "metadata": {
    "tags": []
   },
   "source": [
    "basics_l_dict"
   ]
  },
  {
   "cell_type": "markdown",
   "id": "01c47d86-3837-45dd-9c8d-1979d6722ec3",
   "metadata": {
    "tags": []
   },
   "source": [
    "basics_list = [basics_v_dict, basics_p_dict, basics_l_dict]"
   ]
  },
  {
   "cell_type": "markdown",
   "id": "196e0df3-4f32-48d5-b746-9b612fd414f4",
   "metadata": {
    "tags": []
   },
   "source": [
    "basics_list"
   ]
  },
  {
   "cell_type": "code",
   "execution_count": 9,
   "id": "795f82aa-bbc0-491d-8d26-fe2abb02c6d2",
   "metadata": {},
   "outputs": [],
   "source": [
    "#features"
   ]
  },
  {
   "cell_type": "code",
   "execution_count": 10,
   "id": "75a5d27a-6f9c-4c68-8ddf-bb17bdecd5c1",
   "metadata": {},
   "outputs": [
    {
     "data": {
      "text/plain": [
       "'\\nfeatures_clean = []\\n\\nfor i in features:\\n    i = str(i)\\n    i = i.replace(\\'<span>\\',\"\").replace(\\'</span>\\',\"\")\\n    features_clean.append(i)\\n'"
      ]
     },
     "execution_count": 10,
     "metadata": {},
     "output_type": "execute_result"
    }
   ],
   "source": [
    "'''\n",
    "features_clean = []\n",
    "\n",
    "for i in features:\n",
    "    i = str(i)\n",
    "    i = i.replace('<span>',\"\").replace('</span>',\"\")\n",
    "    features_clean.append(i)\n",
    "'''"
   ]
  },
  {
   "cell_type": "code",
   "execution_count": 11,
   "id": "a63d1240-2ab5-4c23-a8cf-ba1d09bac06f",
   "metadata": {},
   "outputs": [],
   "source": [
    "#features_clean"
   ]
  },
  {
   "cell_type": "code",
   "execution_count": 12,
   "id": "80d190b2-258e-4048-8be3-2b24474abe10",
   "metadata": {},
   "outputs": [],
   "source": [
    "#type(tech_specs)"
   ]
  },
  {
   "cell_type": "code",
   "execution_count": 13,
   "id": "0a9da132-3b6e-43d9-a561-5e034706abac",
   "metadata": {},
   "outputs": [],
   "source": [
    "#tech_specs[0]"
   ]
  },
  {
   "cell_type": "code",
   "execution_count": 14,
   "id": "43bd91ef-5f2e-4d56-a9ed-8fdb53eefe91",
   "metadata": {},
   "outputs": [],
   "source": [
    "#Can I use a loop create a dict, and then slice into each list item, and extract the text of \"item-attr\" to create the key and 'item-property' text as the value?"
   ]
  },
  {
   "cell_type": "code",
   "execution_count": 15,
   "id": "147d0b34-a70d-4c7a-b7cc-0b2fdd8e0bea",
   "metadata": {},
   "outputs": [
    {
     "data": {
      "text/plain": [
       "\"\\ntech_specs_dict = {}\\n\\nfor item in tech_specs:\\n    post_dict[item.find(class_='item-attr').text] = item.find(class_='item-property').text\\n\\nfor k,v in post_dict.items():\\n    post_dict[k] = v.replace('\\n','')\\n\""
      ]
     },
     "execution_count": 15,
     "metadata": {},
     "output_type": "execute_result"
    }
   ],
   "source": [
    "'''\n",
    "tech_specs_dict = {}\n",
    "\n",
    "for item in tech_specs:\n",
    "    post_dict[item.find(class_='item-attr').text] = item.find(class_='item-property').text\n",
    "\n",
    "for k,v in post_dict.items():\n",
    "    post_dict[k] = v.replace('\\n','')\n",
    "'''"
   ]
  },
  {
   "cell_type": "code",
   "execution_count": 16,
   "id": "be6786ec-2d78-45ea-ae8b-12cf5d09166f",
   "metadata": {},
   "outputs": [],
   "source": [
    "#tech_specs_dict"
   ]
  },
  {
   "cell_type": "code",
   "execution_count": 17,
   "id": "bd2019bd-a67a-43ba-8d53-1ed42ef764f2",
   "metadata": {},
   "outputs": [
    {
     "data": {
      "text/plain": [
       "'\\nfeatures_dict = {}\\n\\nfor i in features_clean:\\n    post_dict[i] = True\\n'"
      ]
     },
     "execution_count": 17,
     "metadata": {},
     "output_type": "execute_result"
    }
   ],
   "source": [
    "'''\n",
    "features_dict = {}\n",
    "\n",
    "for i in features_clean:\n",
    "    post_dict[i] = True\n",
    "'''"
   ]
  },
  {
   "cell_type": "code",
   "execution_count": 18,
   "id": "eb2821fe-ce2a-4c2a-88a5-66d75dcc8cf9",
   "metadata": {},
   "outputs": [],
   "source": [
    "#post_dict"
   ]
  },
  {
   "cell_type": "markdown",
   "id": "889aca9a-ccdc-4611-86ae-c6e0f19d7acd",
   "metadata": {},
   "source": [
    "Alright, so that is maybe one post cleaned. I have a lot more features than I was expecting: can these be boolean values? \n",
    "True if the van has it, False if it doesn't.\n",
    "\n",
    "I am concerned that, since not every van will have the same features, and the website only displays what it DOES have, I will find it\n",
    "really hard to actually compare vans that DO have showers against those that DON'T. How do I deal with this?\n",
    "*strategy: move into Pandas, leverage merge functionality to get NaN's that I can change to False values for features*\n",
    "*master list of features I want to include that I can use to filter?*\n",
    "**get_dummies can turn categorical values into booleans**\n",
    "\n",
    "Can I clean up values that should be integers once I move this into a pandas df?"
   ]
  },
  {
   "cell_type": "code",
   "execution_count": 19,
   "id": "62c6a3a2-7932-4752-bc39-e67590569b76",
   "metadata": {},
   "outputs": [
    {
     "data": {
      "text/plain": [
       "'\\nregex = \\'^\\\\(d+),\\\\(d+)$\\'\\n\\nfor k,v in post_dict.items():\\n    if \"$\" in str(v):\\n        post_dict[k] = float(v.replace(\\'$\\',\\'\\').replace(\\',\\',\\'\\'))\\n    elif regex in str(v):\\n        post_dict[k] = int(v.replace(\\',\\',\\'\\'))\\n    elif \"MPG\" in str(v):\\n        post_dict[k] = float(v.replace(\\'MPG\\',\\'\\'))\\n    elif str(v).isdigit():\\n        post_dict[k] = int(v)\\n    else:\\n        continue\\n'"
      ]
     },
     "execution_count": 19,
     "metadata": {},
     "output_type": "execute_result"
    }
   ],
   "source": [
    "'''\n",
    "regex = '^\\(d+),\\(d+)$'\n",
    "\n",
    "for k,v in post_dict.items():\n",
    "    if \"$\" in str(v):\n",
    "        post_dict[k] = float(v.replace('$','').replace(',',''))\n",
    "    elif regex in str(v):\n",
    "        post_dict[k] = int(v.replace(',',''))\n",
    "    elif \"MPG\" in str(v):\n",
    "        post_dict[k] = float(v.replace('MPG',''))\n",
    "    elif str(v).isdigit():\n",
    "        post_dict[k] = int(v)\n",
    "    else:\n",
    "        continue\n",
    "'''\n",
    "#how do i get the regex to convert the mileage to an integer?"
   ]
  },
  {
   "cell_type": "code",
   "execution_count": 20,
   "id": "d4364b48-4b3e-4f56-a5fd-7248c6b2646c",
   "metadata": {},
   "outputs": [],
   "source": [
    "#post_dict"
   ]
  },
  {
   "cell_type": "code",
   "execution_count": 21,
   "id": "9ad8bf7e-7fbc-4c0c-8914-d5ad542b4a98",
   "metadata": {},
   "outputs": [
    {
     "data": {
      "text/plain": [
       "'\\ndriver.get(\\'https://vanlifetrader.com/listing/awesome-stealthy-adventure-van/\\')\\n\\nsoup2 = bs(driver.page_source)\\n\\nbasics_table2 = soup2.find_all(class_=\\'col-md-12 block-type-table\\')[0]\\ntech_table2 = soup2.find_all(class_=\\'col-md-12 block-type-table\\')[1]\\n\\nbasics2 = basics_table2.find_all(\\'li\\')\\ntech_specs2 = tech_table2.find_all(\\'li\\')\\nfeatures2 = soup2.find(class_=\\'col-md-12 block-type-tags\\').find_all(\\'span\\')\\n\\npost_dict2 = {}\\nfeatures_clean2 = []\\n\\nfor item in basics2:\\n    post_dict2[item.find(class_=\\'item-attr\\').text] = item.find(class_=\\'item-property\\').text\\n\\nfor k,v in post_dict2.items():\\n    post_dict2[k] = v.replace(\\'\\n\\',\\'\\')\\n    \\nfor i in features2:\\n    i = str(i)\\n    i = i.replace(\\'<span>\\',\"\").replace(\\'</span>\\',\"\")\\n    features_clean2.append(i)\\n    \\nfor item in tech_specs2:\\n    post_dict2[item.find(class_=\\'item-attr\\').text] = item.find(class_=\\'item-property\\').text\\n\\nfor k,v in post_dict2.items():\\n    post_dict2[k] = v.replace(\\'\\n\\',\\'\\')\\n\\nfor i in features_clean2:\\n    post_dict2[i] = True\\n    \\nregex = \\'^\\\\(d+),\\\\(d+)$\\'\\n\\nfor k,v in post_dict2.items():\\n    if \"$\" in str(v):\\n        post_dict2[k] = float(v.replace(\\'$\\',\\'\\').replace(\\',\\',\\'\\'))\\n    elif k == \\'Mileage\\':\\n        post_dict2[k] = int(v.replace(\\',\\',\\'\\'))\\n    elif \"MPG\" in str(v):\\n        post_dict2[k] = float(v.replace(\\'MPG\\',\\'\\'))\\n    elif str(v).isdigit():\\n        post_dict2[k] = int(v)\\n    else:\\n        continue\\n'"
      ]
     },
     "execution_count": 21,
     "metadata": {},
     "output_type": "execute_result"
    }
   ],
   "source": [
    "#testing a second page to see if my search method works\n",
    "'''\n",
    "driver.get('https://vanlifetrader.com/listing/awesome-stealthy-adventure-van/')\n",
    "\n",
    "soup2 = bs(driver.page_source)\n",
    "\n",
    "basics_table2 = soup2.find_all(class_='col-md-12 block-type-table')[0]\n",
    "tech_table2 = soup2.find_all(class_='col-md-12 block-type-table')[1]\n",
    "\n",
    "basics2 = basics_table2.find_all('li')\n",
    "tech_specs2 = tech_table2.find_all('li')\n",
    "features2 = soup2.find(class_='col-md-12 block-type-tags').find_all('span')\n",
    "\n",
    "post_dict2 = {}\n",
    "features_clean2 = []\n",
    "\n",
    "for item in basics2:\n",
    "    post_dict2[item.find(class_='item-attr').text] = item.find(class_='item-property').text\n",
    "\n",
    "for k,v in post_dict2.items():\n",
    "    post_dict2[k] = v.replace('\\n','')\n",
    "    \n",
    "for i in features2:\n",
    "    i = str(i)\n",
    "    i = i.replace('<span>',\"\").replace('</span>',\"\")\n",
    "    features_clean2.append(i)\n",
    "    \n",
    "for item in tech_specs2:\n",
    "    post_dict2[item.find(class_='item-attr').text] = item.find(class_='item-property').text\n",
    "\n",
    "for k,v in post_dict2.items():\n",
    "    post_dict2[k] = v.replace('\\n','')\n",
    "\n",
    "for i in features_clean2:\n",
    "    post_dict2[i] = True\n",
    "    \n",
    "regex = '^\\(d+),\\(d+)$'\n",
    "\n",
    "for k,v in post_dict2.items():\n",
    "    if \"$\" in str(v):\n",
    "        post_dict2[k] = float(v.replace('$','').replace(',',''))\n",
    "    elif k == 'Mileage':\n",
    "        post_dict2[k] = int(v.replace(',',''))\n",
    "    elif \"MPG\" in str(v):\n",
    "        post_dict2[k] = float(v.replace('MPG',''))\n",
    "    elif str(v).isdigit():\n",
    "        post_dict2[k] = int(v)\n",
    "    else:\n",
    "        continue\n",
    "'''\n",
    "#how do i get the regex to convert the mileage to an integer?"
   ]
  },
  {
   "cell_type": "code",
   "execution_count": 22,
   "id": "90b7ff95-a8df-4900-a3f8-f0566879d02c",
   "metadata": {},
   "outputs": [],
   "source": [
    "#post_dict"
   ]
  },
  {
   "cell_type": "code",
   "execution_count": 23,
   "id": "d9608ea1-7ac8-48fe-b6b3-633c02a7dfcd",
   "metadata": {},
   "outputs": [],
   "source": [
    "#post_dict2"
   ]
  },
  {
   "cell_type": "markdown",
   "id": "5ce6ed5d-1656-4ce9-b15e-13560dc7f2dd",
   "metadata": {},
   "source": [
    "Awesome! I am scraping the same containers on each page and getting the correctly varying information. Questions moving forward:\n",
    "- How do I handle the fact that each dictionary is going to have a slightly different combination of keys?\n",
    "- How do I automate the cleaning of the mileage?\n",
    "- How do I get a list of links to each post on a single page? (class_=results-view.grid).find_all('a') perhaps?"
   ]
  },
  {
   "cell_type": "code",
   "execution_count": 24,
   "id": "b1d923ec-98df-4a7f-b917-116805756311",
   "metadata": {},
   "outputs": [],
   "source": [
    "#driver.get('https://vanlifetrader.com/explore/?sort=latest')"
   ]
  },
  {
   "cell_type": "code",
   "execution_count": 25,
   "id": "b5c4d951-e7af-407e-8baf-ad259fe6b6ee",
   "metadata": {},
   "outputs": [],
   "source": [
    "#soup3 = bs(driver.page_source)"
   ]
  },
  {
   "cell_type": "code",
   "execution_count": 26,
   "id": "2245f414-289e-47d3-9ac5-f180490b3dcd",
   "metadata": {},
   "outputs": [],
   "source": [
    "#print(soup3.find_all(class_='lf-item lf-item-default'))"
   ]
  },
  {
   "cell_type": "code",
   "execution_count": 27,
   "id": "e56bed19-31c6-4bc3-89e3-83b289bb8300",
   "metadata": {},
   "outputs": [],
   "source": [
    "def get_posts_on_page(page):\n",
    "    \n",
    "    '''\n",
    "    Inputs: a url (string).\n",
    "    \n",
    "    Returns: a list containing all the links on that VanlifeTrader page that lead to each posting on the page\n",
    "    '''\n",
    "    \n",
    "    # connect the driver to the page of postings and give it 30 seconds to load\n",
    "    driver.get(page)\n",
    "    time.sleep(30)\n",
    "    \n",
    "    # create a BeautifulSoup object of the HTML source from the page, and pause for ten seconds\n",
    "    soup = bs(driver.page_source)\n",
    "    time.sleep(10)\n",
    "    \n",
    "    # initialize an empty list to collect the post links in\n",
    "    posts_on_page = []\n",
    "\n",
    "    # find the post links and append them to posts_on_page\n",
    "    for div in soup.find_all(class_='lf-item lf-item-default'):\n",
    "        url_tag = div.find('a')\n",
    "        url = url_tag['href']\n",
    "        posts_on_page.append(url)\n",
    "        \n",
    "    return posts_on_page"
   ]
  },
  {
   "cell_type": "code",
   "execution_count": 28,
   "id": "44d4f6c0-785a-4cd3-b5a8-f7bfc0bb0524",
   "metadata": {},
   "outputs": [],
   "source": [
    "#test_url = 'https://vanlifetrader.com/explore/?pg=6&sort=latest'\n",
    "\n",
    "#test_list = get_posts_on_page(test_url)"
   ]
  },
  {
   "cell_type": "code",
   "execution_count": 29,
   "id": "d361ab57-840f-4357-8899-566838dd95bc",
   "metadata": {},
   "outputs": [],
   "source": [
    "#len(test_list)"
   ]
  },
  {
   "cell_type": "code",
   "execution_count": 30,
   "id": "66740cea-fb38-4843-8486-fa43ef647af7",
   "metadata": {},
   "outputs": [],
   "source": [
    "#lets try to scrape one page"
   ]
  },
  {
   "cell_type": "code",
   "execution_count": 31,
   "id": "2f940a5e-bd7a-4184-9c25-aca414917ccd",
   "metadata": {},
   "outputs": [],
   "source": [
    "def page_scraper(page_listings):\n",
    "\n",
    "    posts = []\n",
    "\n",
    "    # loop through every link in page_listings\n",
    "    for url in page_listings:\n",
    "        driver2.get(url) # connect to the specific posting page\n",
    "        soup = bs(driver2.page_source) # bring the source HTML to BeautifulSoup\n",
    "    \n",
    "        basics_table = soup.find_all(class_='col-md-12 block-type-table')[0] # locate the \"basics\" element on the page\n",
    "        tech_table = soup.find_all(class_='col-md-12 block-type-table')[1] # locate the \"tech specs\" element on the page\n",
    "        features = soup.find(class_='col-md-12 block-type-tags').find_all('span') # locate the \"features\" element on the page\n",
    "    \n",
    "        post_dict = {} # create a new dictionary to hold the information from the post; this will be recreated every iteration of the outer loop\n",
    "    \n",
    "        basics = basics_table.find_all('li') # drill down to the list elements of the \"basics\" table\n",
    "        tech_specs = tech_table.find_all('li') # drill down to the list elements of the \"tech specs\" table\n",
    "        features = soup.find(class_='col-md-12 block-type-tags').find_all('span') # drill down to the \"span\" element of the features table\n",
    "        \n",
    "        try:\n",
    "            # create k:v pairs in post_dict from \"basics\" data\n",
    "            for item in basics: \n",
    "                post_dict[item.find(class_='item-attr').text] = item.find(class_='item-property').text \n",
    "            # create k:v pairs in post_dict from \"tech specs\" data\n",
    "            for item in tech_specs:\n",
    "                post_dict[item.find(class_='item-attr').text] = item.find(class_='item-property').text\n",
    "    \n",
    "            # isolate the actual text in each element of features, and then create k:v pairs in post_dict with True values\n",
    "            for i in features:\n",
    "                i = str(i)\n",
    "                i = i.replace('<span>',\"\").replace('</span>',\"\")\n",
    "                post_dict[i] = True\n",
    "        except:\n",
    "            continue\n",
    "\n",
    "        # clean up data in post_dict    \n",
    "        for k,v in post_dict.items():\n",
    "            try:\n",
    "                if '\\n' in str(v):\n",
    "                    post_dict[k] = v.replace('\\n','')\n",
    "                if k == 'Price':\n",
    "                    post_dict[k] = float(v.replace('$','').replace(',',''))\n",
    "                if k == 'Mileage':\n",
    "                    post_dict[k] = int(v.replace(',',''))\n",
    "                if k == 'Fuel Efficiency (Highway)':\n",
    "                    post_dict[k] = float(v.replace('MPG',''))\n",
    "                if k == 'Number of Seats with Seatbelts' or k == 'Sleeping Capacity' or k == 'Wheel Base Length':\n",
    "                    post_dict[k] = int(v)\n",
    "                else:\n",
    "                    continue\n",
    "            except:\n",
    "                continue\n",
    "                \n",
    "        # append post dictionaries to a list (posts) until every post on the page is scraped\n",
    "        if len(posts) != len(page_listings):\n",
    "            posts.append(post_dict)\n",
    "        else:\n",
    "            break\n",
    "\n",
    "        # introduce a random pause based on 3 seconds between scrapes (from vanlifetrader's robots.txt)    \n",
    "        time.sleep(1+3*random.random())\n",
    "\n",
    "    # store the page data as a pandas dataframe once all posts are scraped    \n",
    "    #if len(posts) == len(page_listings):\n",
    "        posts_df = pd.DataFrame(posts)\n",
    "        \n",
    "    return posts_df"
   ]
  },
  {
   "cell_type": "code",
   "execution_count": 32,
   "id": "9d9a51e7-b9f4-4f96-b469-c128b22b6220",
   "metadata": {},
   "outputs": [],
   "source": [
    "#test_df = page_scraper(test_list)"
   ]
  },
  {
   "cell_type": "code",
   "execution_count": 33,
   "id": "50146fa9-05c5-47a2-b893-487186f56dfb",
   "metadata": {},
   "outputs": [],
   "source": [
    "#test_df.head()"
   ]
  },
  {
   "cell_type": "code",
   "execution_count": 34,
   "id": "41266941-d96c-445f-b6d2-f43ce6ea7c39",
   "metadata": {},
   "outputs": [],
   "source": [
    "#posts_df.head()"
   ]
  },
  {
   "cell_type": "code",
   "execution_count": 35,
   "id": "e9fd18c5-8473-4884-ae4a-95f9d8a442e0",
   "metadata": {},
   "outputs": [],
   "source": [
    "# YAYUHHHHHHHHHHHHH\n",
    "\n",
    "# Okay so....now I scrape the whole site?"
   ]
  },
  {
   "cell_type": "code",
   "execution_count": null,
   "id": "161c012c-4e8f-4a69-98bf-99595e47c22d",
   "metadata": {},
   "outputs": [],
   "source": []
  },
  {
   "cell_type": "code",
   "execution_count": 36,
   "id": "6f22cecb-0979-4b83-94a7-f159885b7a99",
   "metadata": {},
   "outputs": [],
   "source": [
    "url_base = 'https://vanlifetrader.com/explore/?pg=' ## pg needs to go from 1 - 11\n",
    "sort = '&sort=latest'\n",
    "\n",
    "page_list = [url_base + str(i) + sort for i in range(1,12)]"
   ]
  },
  {
   "cell_type": "code",
   "execution_count": 41,
   "id": "3e245cd1-8515-4b8b-bfae-4c2a5c558ed0",
   "metadata": {},
   "outputs": [
    {
     "data": {
      "text/plain": [
       "['https://vanlifetrader.com/explore/?pg=1&sort=latest',\n",
       " 'https://vanlifetrader.com/explore/?pg=2&sort=latest',\n",
       " 'https://vanlifetrader.com/explore/?pg=3&sort=latest',\n",
       " 'https://vanlifetrader.com/explore/?pg=4&sort=latest',\n",
       " 'https://vanlifetrader.com/explore/?pg=5&sort=latest',\n",
       " 'https://vanlifetrader.com/explore/?pg=6&sort=latest',\n",
       " 'https://vanlifetrader.com/explore/?pg=7&sort=latest',\n",
       " 'https://vanlifetrader.com/explore/?pg=8&sort=latest',\n",
       " 'https://vanlifetrader.com/explore/?pg=9&sort=latest',\n",
       " 'https://vanlifetrader.com/explore/?pg=10&sort=latest',\n",
       " 'https://vanlifetrader.com/explore/?pg=11&sort=latest']"
      ]
     },
     "execution_count": 41,
     "metadata": {},
     "output_type": "execute_result"
    }
   ],
   "source": [
    "page_list"
   ]
  },
  {
   "cell_type": "code",
   "execution_count": 38,
   "id": "0ae2dab4-bad0-4da0-9372-9b3fa7f9215b",
   "metadata": {},
   "outputs": [
    {
     "name": "stderr",
     "output_type": "stream",
     "text": [
      "/tmp/ipykernel_241748/1279694086.py:3: DeprecationWarning: executable_path has been deprecated, please pass in a Service object\n",
      "  driver = webdriver.Chrome(chromedriver)\n",
      "/tmp/ipykernel_241748/1279694086.py:4: DeprecationWarning: executable_path has been deprecated, please pass in a Service object\n",
      "  driver2 = webdriver.Chrome(chromedriver)\n"
     ]
    },
    {
     "name": "stdout",
     "output_type": "stream",
     "text": [
      "Scraping this page: https://vanlifetrader.com/explore/?pg=1&sort=latest\n",
      "I scraped 50 links. The first one is https://vanlifetrader.com/listing/custom-made-pro-master-camper-van/ and the last one is https://vanlifetrader.com/listing/2021-promaster-luxury-van-shower-toilet/.\n",
      "Scraping this page: https://vanlifetrader.com/explore/?pg=2&sort=latest\n",
      "I scraped 50 links. The first one is https://vanlifetrader.com/listing/brand-new-promaster-camper-conversion/ and the last one is https://vanlifetrader.com/listing/2016-sprinter-4x4-adventure-vehicle/.\n",
      "Scraping this page: https://vanlifetrader.com/explore/?pg=3&sort=latest\n",
      "I scraped 50 links. The first one is https://vanlifetrader.com/listing/custom-stealth-camper-van-solar-powered-tiny-home-on-wheels/ and the last one is https://vanlifetrader.com/listing/2015-4x4-mercedes-sprinter-2500/.\n",
      "Scraping this page: https://vanlifetrader.com/explore/?pg=4&sort=latest\n",
      "I scraped 50 links. The first one is https://vanlifetrader.com/listing/sale-pending-2016-mercedes-sprinter-144-4x4-seats-3-sleeps-3/ and the last one is https://vanlifetrader.com/listing/leo-the-home-on-wheels-by-mybushotel/.\n",
      "Scraping this page: https://vanlifetrader.com/explore/?pg=5&sort=latest\n",
      "I scraped 50 links. The first one is https://vanlifetrader.com/listing/basic-build-awaiting-your-unique-finishes/ and the last one is https://vanlifetrader.com/listing/gorgeous-luxury-conversion-in-fully-loaded-sprinter/.\n",
      "Scraping this page: https://vanlifetrader.com/explore/?pg=6&sort=latest\n",
      "I scraped 50 links. The first one is https://vanlifetrader.com/listing/2021-mercedes-benz-sprinter-144-hr-adventure-campervan/ and the last one is https://vanlifetrader.com/listing/2018-mb-sprinter-170-3500xd-4x4-family-adventure-van-seats-5-sleeps-4-5/.\n",
      "Scraping this page: https://vanlifetrader.com/explore/?pg=7&sort=latest\n",
      "I scraped 50 links. The first one is https://vanlifetrader.com/listing/2018-mb-sprinter-170-3500xd-4x4-family-adventure-van-seats-5-sleeps-4-5/ and the last one is https://vanlifetrader.com/listing/2003-eurovan-weekender-for-sale/.\n",
      "Scraping this page: https://vanlifetrader.com/explore/?pg=8&sort=latest\n",
      "I scraped 50 links. The first one is https://vanlifetrader.com/listing/sold-custom-built-sprinter-170ext-all-amenities-no-expense-spared/ and the last one is https://vanlifetrader.com/listing/weekend-warrior-conversion-van/.\n",
      "Scraping this page: https://vanlifetrader.com/explore/?pg=9&sort=latest\n",
      "I scraped 50 links. The first one is https://vanlifetrader.com/listing/2005-dodge-mercedez-sprinter-2500/ and the last one is https://vanlifetrader.com/listing/2021-ram-promaster-2500-159-wheelbase-high-roof-off-grid-camper/.\n",
      "Scraping this page: https://vanlifetrader.com/explore/?pg=10&sort=latest\n",
      "I scraped 50 links. The first one is https://vanlifetrader.com/listing/2008-sprinter-van-build-brooklyn-ny-2/ and the last one is https://vanlifetrader.com/listing/2002-ford-e-350-7-3-powerstroke-short-bus-ready-to-build/.\n",
      "Scraping this page: https://vanlifetrader.com/explore/?pg=11&sort=latest\n",
      "I scraped 20 links. The first one is https://vanlifetrader.com/listing/campulance/ and the last one is https://vanlifetrader.com/listing/adventure-van-2/.\n"
     ]
    }
   ],
   "source": [
    "# reinitialize drivers, if needed\n",
    "\n",
    "driver = webdriver.Chrome(chromedriver)\n",
    "driver2 = webdriver.Chrome(chromedriver)\n",
    "\n",
    "vans = pd.DataFrame()\n",
    "\n",
    "for page in page_list:\n",
    "    \n",
    "    print(f'Scraping this page: {page}')\n",
    "    post_links = get_posts_on_page(page)\n",
    "    print(f'I scraped {len(post_links)} links. The first one is {post_links[0]} and the last one is {post_links[-1]}.')  \n",
    "    vans = vans.append(page_scraper(post_links))"
   ]
  },
  {
   "cell_type": "code",
   "execution_count": 39,
   "id": "8a7fb378-1829-423d-82da-cc25c1439c50",
   "metadata": {},
   "outputs": [
    {
     "name": "stdout",
     "output_type": "stream",
     "text": [
      "<class 'pandas.core.frame.DataFrame'>\n",
      "Int64Index: 520 entries, 0 to 19\n",
      "Data columns (total 56 columns):\n",
      " #   Column                            Non-Null Count  Dtype  \n",
      "---  ------                            --------------  -----  \n",
      " 0   Vehicle                           520 non-null    object \n",
      " 1   Price                             520 non-null    float64\n",
      " 2   Location                          520 non-null    object \n",
      " 3   Manufacturing Year                520 non-null    object \n",
      " 4   Make & Model                      520 non-null    object \n",
      " 5   Mileage                           520 non-null    object \n",
      " 6   Drive                             520 non-null    object \n",
      " 7   Title Status                      520 non-null    object \n",
      " 8   Transmission                      520 non-null    object \n",
      " 9   Fuel                              520 non-null    object \n",
      " 10  Wheel Base Length                 359 non-null    object \n",
      " 11  Number of Seats with Seatbelts    520 non-null    int64  \n",
      " 12  Sleeping Capacity                 520 non-null    int64  \n",
      " 13  Air Bags                          473 non-null    object \n",
      " 14  Air Conditioner                   337 non-null    object \n",
      " 15  Audio System                      425 non-null    object \n",
      " 16  Backup Camera                     433 non-null    object \n",
      " 17  Bluetooth / Wifi                  357 non-null    object \n",
      " 18  Electric windows                  396 non-null    object \n",
      " 19  Exterior Lights                   213 non-null    object \n",
      " 20  Fresh Water Tank (Built-in)       331 non-null    object \n",
      " 21  Grey / Black Water Tanks          336 non-null    object \n",
      " 22  Offroad Tires                     179 non-null    object \n",
      " 23  Refrigerator                      419 non-null    object \n",
      " 24  Roof Fan                          414 non-null    object \n",
      " 25  Sink                              423 non-null    object \n",
      " 26  Solar                             418 non-null    object \n",
      " 27  Stove                             293 non-null    object \n",
      " 28  USB port                          443 non-null    object \n",
      " 29  Water Pump                        388 non-null    object \n",
      " 30  Bike Rack                         73 non-null     object \n",
      " 31  Heater / Furnace                  265 non-null    object \n",
      " 32  Microwave                         70 non-null     object \n",
      " 33  Shower (Indoor)                   134 non-null    object \n",
      " 34  Toilet                            272 non-null    object \n",
      " 35  Water Heater                      242 non-null    object \n",
      " 36  Awning                            117 non-null    object \n",
      " 37  Fresh Water Tank (Portable)       230 non-null    object \n",
      " 38  Heated seats                      79 non-null     object \n",
      " 39  Inverter                          406 non-null    object \n",
      " 40  Offroad Lights                    107 non-null    object \n",
      " 41  Roof Rack                         194 non-null    object \n",
      " 42  Security System                   115 non-null    object \n",
      " 43  Shower (Outdoor)                  233 non-null    object \n",
      " 44  Suspension Mods                   90 non-null     object \n",
      " 45  Tow Winch                         54 non-null     object \n",
      " 46  Towing Package                    204 non-null    object \n",
      " 47  Cooler                            133 non-null    object \n",
      " 48  TV                                75 non-null     object \n",
      " 49  Fuel Efficiency (Highway)         217 non-null    float64\n",
      " 50  Generator                         36 non-null     object \n",
      " 51  Oven                              65 non-null     object \n",
      " 52  Propane                           185 non-null    object \n",
      " 53  Child Seat                        34 non-null     object \n",
      " 54  Skylight                          58 non-null     object \n",
      " 55  Handicap / Wheelchair Conversion  1 non-null      object \n",
      "dtypes: float64(2), int64(2), object(52)\n",
      "memory usage: 231.6+ KB\n"
     ]
    }
   ],
   "source": [
    "vans.info()"
   ]
  },
  {
   "cell_type": "code",
   "execution_count": 40,
   "id": "9a411bde-1db5-4376-9433-10d4508c6823",
   "metadata": {},
   "outputs": [],
   "source": [
    "#vans.to_csv('vanlifetrader_data_oct28.csv')"
   ]
  },
  {
   "cell_type": "code",
   "execution_count": 42,
   "id": "76dce0a0-ed2c-4a7a-90a1-ec83647abc0e",
   "metadata": {},
   "outputs": [
    {
     "name": "stdout",
     "output_type": "stream",
     "text": [
      "<class 'pandas.core.frame.DataFrame'>\n",
      "Int64Index: 520 entries, 0 to 19\n",
      "Data columns (total 56 columns):\n",
      " #   Column                            Non-Null Count  Dtype  \n",
      "---  ------                            --------------  -----  \n",
      " 0   Vehicle                           520 non-null    object \n",
      " 1   Price                             520 non-null    float64\n",
      " 2   Location                          520 non-null    object \n",
      " 3   Manufacturing Year                520 non-null    object \n",
      " 4   Make & Model                      520 non-null    object \n",
      " 5   Mileage                           520 non-null    object \n",
      " 6   Drive                             520 non-null    object \n",
      " 7   Title Status                      520 non-null    object \n",
      " 8   Transmission                      520 non-null    object \n",
      " 9   Fuel                              520 non-null    object \n",
      " 10  Wheel Base Length                 359 non-null    object \n",
      " 11  Number of Seats with Seatbelts    520 non-null    int64  \n",
      " 12  Sleeping Capacity                 520 non-null    int64  \n",
      " 13  Air Bags                          473 non-null    object \n",
      " 14  Air Conditioner                   337 non-null    object \n",
      " 15  Audio System                      425 non-null    object \n",
      " 16  Backup Camera                     433 non-null    object \n",
      " 17  Bluetooth / Wifi                  357 non-null    object \n",
      " 18  Electric windows                  396 non-null    object \n",
      " 19  Exterior Lights                   213 non-null    object \n",
      " 20  Fresh Water Tank (Built-in)       331 non-null    object \n",
      " 21  Grey / Black Water Tanks          336 non-null    object \n",
      " 22  Offroad Tires                     179 non-null    object \n",
      " 23  Refrigerator                      419 non-null    object \n",
      " 24  Roof Fan                          414 non-null    object \n",
      " 25  Sink                              423 non-null    object \n",
      " 26  Solar                             418 non-null    object \n",
      " 27  Stove                             293 non-null    object \n",
      " 28  USB port                          443 non-null    object \n",
      " 29  Water Pump                        388 non-null    object \n",
      " 30  Bike Rack                         73 non-null     object \n",
      " 31  Heater / Furnace                  265 non-null    object \n",
      " 32  Microwave                         70 non-null     object \n",
      " 33  Shower (Indoor)                   134 non-null    object \n",
      " 34  Toilet                            272 non-null    object \n",
      " 35  Water Heater                      242 non-null    object \n",
      " 36  Awning                            117 non-null    object \n",
      " 37  Fresh Water Tank (Portable)       230 non-null    object \n",
      " 38  Heated seats                      79 non-null     object \n",
      " 39  Inverter                          406 non-null    object \n",
      " 40  Offroad Lights                    107 non-null    object \n",
      " 41  Roof Rack                         194 non-null    object \n",
      " 42  Security System                   115 non-null    object \n",
      " 43  Shower (Outdoor)                  233 non-null    object \n",
      " 44  Suspension Mods                   90 non-null     object \n",
      " 45  Tow Winch                         54 non-null     object \n",
      " 46  Towing Package                    204 non-null    object \n",
      " 47  Cooler                            133 non-null    object \n",
      " 48  TV                                75 non-null     object \n",
      " 49  Fuel Efficiency (Highway)         217 non-null    float64\n",
      " 50  Generator                         36 non-null     object \n",
      " 51  Oven                              65 non-null     object \n",
      " 52  Propane                           185 non-null    object \n",
      " 53  Child Seat                        34 non-null     object \n",
      " 54  Skylight                          58 non-null     object \n",
      " 55  Handicap / Wheelchair Conversion  1 non-null      object \n",
      "dtypes: float64(2), int64(2), object(52)\n",
      "memory usage: 231.6+ KB\n"
     ]
    }
   ],
   "source": [
    "vans.info()"
   ]
  },
  {
   "cell_type": "code",
   "execution_count": 44,
   "id": "c322fc69-10b3-4114-ba25-075ecff7bbd4",
   "metadata": {},
   "outputs": [],
   "source": [
    "#vans.to_csv('vanlifetrader_data_nov4.csv')"
   ]
  },
  {
   "cell_type": "code",
   "execution_count": null,
   "id": "8dcbdb65-a229-4d31-8ab1-eb7c9871833e",
   "metadata": {},
   "outputs": [],
   "source": []
  },
  {
   "cell_type": "code",
   "execution_count": null,
   "id": "7b5a18a6-729e-40cd-8e31-11005f70ae17",
   "metadata": {},
   "outputs": [],
   "source": []
  },
  {
   "cell_type": "code",
   "execution_count": null,
   "id": "fcffe608-e3a0-40f6-8036-f2ef8f679bdc",
   "metadata": {},
   "outputs": [],
   "source": []
  }
 ],
 "metadata": {
  "kernelspec": {
   "display_name": "Python 3 (ipykernel)",
   "language": "python",
   "name": "python3"
  },
  "language_info": {
   "codemirror_mode": {
    "name": "ipython",
    "version": 3
   },
   "file_extension": ".py",
   "mimetype": "text/x-python",
   "name": "python",
   "nbconvert_exporter": "python",
   "pygments_lexer": "ipython3",
   "version": "3.8.11"
  }
 },
 "nbformat": 4,
 "nbformat_minor": 5
}
